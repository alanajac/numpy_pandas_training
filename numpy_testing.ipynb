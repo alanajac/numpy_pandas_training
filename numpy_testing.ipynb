{
 "cells": [
  {
   "cell_type": "code",
   "execution_count": 1,
   "id": "695a0e3f",
   "metadata": {},
   "outputs": [
    {
     "name": "stdout",
     "output_type": "stream",
     "text": [
      "Hello Jupyter\n"
     ]
    }
   ],
   "source": [
    "print(\"Hello Jupyter\")"
   ]
  },
  {
   "cell_type": "code",
   "execution_count": 1,
   "id": "02486dc3",
   "metadata": {},
   "outputs": [
    {
     "data": {
      "text/plain": [
       "list"
      ]
     },
     "execution_count": 1,
     "metadata": {},
     "output_type": "execute_result"
    }
   ],
   "source": [
    "import numpy as np\n",
    "mylist = [1,2,3]\n",
    "type(mylist)"
   ]
  },
  {
   "cell_type": "code",
   "execution_count": 2,
   "id": "c0b1afba",
   "metadata": {},
   "outputs": [
    {
     "data": {
      "text/plain": [
       "array([1, 2, 3])"
      ]
     },
     "execution_count": 2,
     "metadata": {},
     "output_type": "execute_result"
    }
   ],
   "source": [
    "np.array((mylist))"
   ]
  },
  {
   "cell_type": "code",
   "execution_count": 4,
   "id": "2393df64",
   "metadata": {},
   "outputs": [
    {
     "data": {
      "text/plain": [
       "array([[ 1,  2,  3],\n",
       "       [ 2,  4,  0],\n",
       "       [10,  2,  1]])"
      ]
     },
     "execution_count": 4,
     "metadata": {},
     "output_type": "execute_result"
    }
   ],
   "source": [
    "#we can also write matrix. Very basic up to now.\n",
    "my_matrix=[[1,2,3],[2,4,0],[10,2,1]]\n",
    "np.array(my_matrix)"
   ]
  },
  {
   "cell_type": "code",
   "execution_count": 11,
   "id": "6456b761",
   "metadata": {},
   "outputs": [
    {
     "name": "stdout",
     "output_type": "stream",
     "text": [
      "[0, 4, 8, 12, 16]\n"
     ]
    },
    {
     "data": {
      "text/plain": [
       "array([0, 2, 4, 6, 8])"
      ]
     },
     "execution_count": 11,
     "metadata": {},
     "output_type": "execute_result"
    }
   ],
   "source": [
    "#We can also create a range in an array, the same way as range for lists\n",
    "print(list(range(0,20,4)))\n",
    "#But now for arrays in numpy\n",
    "np.arange(0,10,2)"
   ]
  },
  {
   "cell_type": "code",
   "execution_count": 16,
   "id": "3b7cb798",
   "metadata": {},
   "outputs": [
    {
     "data": {
      "text/plain": [
       "array([[1., 1., 1.],\n",
       "       [1., 1., 1.],\n",
       "       [1., 1., 1.]])"
      ]
     },
     "execution_count": 16,
     "metadata": {},
     "output_type": "execute_result"
    }
   ],
   "source": [
    "#We can also define zeros to fill an array\n",
    "np.zeros(4)\n",
    "#the same for matrices:\n",
    "np.zeros((2,5))\n",
    "#and the same also for number of ones!\n",
    "np.ones((3,3))"
   ]
  },
  {
   "cell_type": "code",
   "execution_count": 83,
   "id": "a40e9948",
   "metadata": {},
   "outputs": [
    {
     "name": "stdout",
     "output_type": "stream",
     "text": [
      "[ 0.   0.1  0.2  0.3  0.4  0.5  0.6  0.7  0.8  0.9  1.   1.1  1.2  1.3\n",
      "  1.4  1.5  1.6  1.7  1.8  1.9  2.   2.1  2.2  2.3  2.4  2.5  2.6  2.7\n",
      "  2.8  2.9  3.   3.1  3.2  3.3  3.4  3.5  3.6  3.7  3.8  3.9  4.   4.1\n",
      "  4.2  4.3  4.4  4.5  4.6  4.7  4.8  4.9  5.   5.1  5.2  5.3  5.4  5.5\n",
      "  5.6  5.7  5.8  5.9  6.   6.1  6.2  6.3  6.4  6.5  6.6  6.7  6.8  6.9\n",
      "  7.   7.1  7.2  7.3  7.4  7.5  7.6  7.7  7.8  7.9  8.   8.1  8.2  8.3\n",
      "  8.4  8.5  8.6  8.7  8.8  8.9  9.   9.1  9.2  9.3  9.4  9.5  9.6  9.7\n",
      "  9.8  9.9 10. ]\n"
     ]
    }
   ],
   "source": [
    "#Other important function is linspace\n",
    "#Get evenly spaces from first value, to third value, an the number of elements\n",
    "#np.linspace(start,end-included,number of elements)\n",
    "#Examples\n",
    "np.linspace(0,10,3)\n",
    "np.linspace(0,20,11)\n",
    "myarray=np.array(np.linspace(0,10,101))\n",
    "print(myarray)"
   ]
  },
  {
   "cell_type": "code",
   "execution_count": 22,
   "id": "8ef528c2",
   "metadata": {},
   "outputs": [
    {
     "data": {
      "text/plain": [
       "array([[1., 0., 0.],\n",
       "       [0., 1., 0.],\n",
       "       [0., 0., 1.]])"
      ]
     },
     "execution_count": 22,
     "metadata": {},
     "output_type": "execute_result"
    }
   ],
   "source": [
    "#Identity matrix-very important for linear algebra-squared matrix (n x n) order\n",
    "np.eye(3)"
   ]
  },
  {
   "cell_type": "code",
   "execution_count": 66,
   "id": "dedeed2a",
   "metadata": {},
   "outputs": [
    {
     "name": "stdout",
     "output_type": "stream",
     "text": [
      "[[0.15601864 0.15599452 0.05808361]\n",
      " [0.86617615 0.60111501 0.70807258]]\n",
      "[-0.46947439  0.54256004 -0.46341769 -0.46572975  0.24196227 -1.91328024\n",
      " -1.72491783 -0.56228753 -1.01283112  0.31424733]\n",
      "[2 6 3 8 2 4 2 6 4 8 6 1 3 8 1 9 8 9 4 1]\n",
      "[3 3 2 3 2 3 0 3 2 2 1 0 3 1 3 3 1 1 1 1]\n",
      "[[9 3 5 1]\n",
      " [9 1 9 3]]\n",
      "check it out\n",
      "None\n",
      "[0.37454012 0.95071431 0.73199394]\n"
     ]
    }
   ],
   "source": [
    "#Now lets create random distributions of data. huuuh\n",
    "#First simple one:\n",
    "#Return random numbers in a table. Can also return according to probability distributions.\n",
    "#This simplify a lot and can help in the creation of particles in solar system. \n",
    "print(np.random.rand(2,3))\n",
    "#One example for a normal distribution:\n",
    "print(np.random.randn(10))\n",
    "#Simple ones, to generate ints:\n",
    "#follows the rule:\n",
    "#random.randint(low, high=None, size=None, dtype=int)-> does not include the high number\n",
    "print(np.random.randint(0,11,20))\n",
    "print(np.random.randint(4,size=20))\n",
    "print(np.random.randint(0,10,size=(2,4)))\n",
    "#We can also use np.random.seed(42)-generate a seed set of values. \n",
    "#The number is arbitrary and generate the same numbers\n",
    "print(\"check it out\")\n",
    "print(np.random.seed(42))\n",
    "print(np.random.rand(3))"
   ]
  },
  {
   "cell_type": "code",
   "execution_count": 48,
   "id": "b2cec3de",
   "metadata": {},
   "outputs": [
    {
     "name": "stdout",
     "output_type": "stream",
     "text": [
      "[ 0  1  2  3  4  5  6  7  8  9 10 11 12 13 14 15 16 17 18 19 20 21 22 23\n",
      " 24]\n"
     ]
    },
    {
     "data": {
      "text/plain": [
       "array([[ 0,  1,  2,  3,  4],\n",
       "       [ 5,  6,  7,  8,  9],\n",
       "       [10, 11, 12, 13, 14],\n",
       "       [15, 16, 17, 18, 19],\n",
       "       [20, 21, 22, 23, 24]])"
      ]
     },
     "execution_count": 48,
     "metadata": {},
     "output_type": "execute_result"
    }
   ],
   "source": [
    "#We can also reshape the array, in other format/order\n",
    "arr = np.arange(0,25)\n",
    "print(arr)\n",
    "arr.reshape(5,5)\n",
    "#\n"
   ]
  },
  {
   "cell_type": "code",
   "execution_count": 78,
   "id": "3010aef5",
   "metadata": {},
   "outputs": [
    {
     "name": "stdout",
     "output_type": "stream",
     "text": [
      "[[0.37454012 0.95071431 0.73199394 0.59865848]\n",
      " [0.15601864 0.15599452 0.05808361 0.86617615]]\n",
      "[[0.37454012 0.95071431]\n",
      " [0.73199394 0.59865848]\n",
      " [0.15601864 0.15599452]\n",
      " [0.05808361 0.86617615]]\n",
      "0.05808361216819946\n",
      "0.9507143064099162\n",
      "6\n",
      "1\n"
     ]
    },
    {
     "data": {
      "text/plain": [
       "dtype('float64')"
      ]
     },
     "execution_count": 78,
     "metadata": {},
     "output_type": "execute_result"
    }
   ],
   "source": [
    "#We can also find the max and min valyes of an array. Easy peasy\n",
    "np.random.seed(42)\n",
    "arrayx = np.random.rand(2,4)\n",
    "print(arrayx)\n",
    "print(arrayx.reshape((4,2)))\n",
    "#Other basic important functions:\n",
    "print(arrayx.min())\n",
    "print(arrayx.max())\n",
    "print(arrayx.argmin())\n",
    "print(arrayx.argmax())\n",
    "arrayx.dtype"
   ]
  },
  {
   "cell_type": "code",
   "execution_count": 79,
   "id": "4dacdf37",
   "metadata": {},
   "outputs": [
    {
     "data": {
      "text/plain": [
       "(2, 4)"
      ]
     },
     "execution_count": 79,
     "metadata": {},
     "output_type": "execute_result"
    }
   ],
   "source": [
    "#array.shape() also tells us the shape of our array\n",
    "arrayx.shape"
   ]
  },
  {
   "cell_type": "code",
   "execution_count": 88,
   "id": "135cef54",
   "metadata": {},
   "outputs": [
    {
     "data": {
      "text/plain": [
       "array([ 0,  1,  2,  3,  4,  5,  6,  7,  8,  9, 10])"
      ]
     },
     "execution_count": 88,
     "metadata": {},
     "output_type": "execute_result"
    }
   ],
   "source": [
    "#INDEXES,SELECTIONS, GRABBING, SLICES\n",
    "new_array = np.arange(0,11)\n",
    "new_array"
   ]
  },
  {
   "cell_type": "code",
   "execution_count": 105,
   "id": "b56a677b",
   "metadata": {},
   "outputs": [],
   "source": [
    "new_array[8]\n",
    "arr[1:5]\n",
    "arr[0:5]\n",
    "arr[:5]\n",
    "arr[:5]=100"
   ]
  },
  {
   "cell_type": "code",
   "execution_count": 116,
   "id": "f7b6af4d",
   "metadata": {},
   "outputs": [
    {
     "data": {
      "text/plain": [
       "array([100, 100, 100,   3,   4,   5,   6,   7,   8,   9,  10])"
      ]
     },
     "execution_count": 116,
     "metadata": {},
     "output_type": "execute_result"
    }
   ],
   "source": [
    "array_original=np.arange(0,11)\n",
    "array_original\n",
    "array_imitation = array_original[0:5]\n",
    "array_imitation\n",
    "array_imitation[0:3]=100\n",
    "array_imitation\n",
    "array_original\n",
    "#Space in memory is the same. If we make two arrays equal, they will refer to the same memory.\n",
    "#In the case that we do not want the values to be altered, we need to copy the array by:\n",
    "array_mimic =  array_original.copy()\n",
    "array_mimic\n",
    "array_mimic[4:10]=20\n",
    "array_mimic\n",
    "array_original"
   ]
  },
  {
   "cell_type": "code",
   "execution_count": 125,
   "id": "9bb4d066",
   "metadata": {},
   "outputs": [
    {
     "name": "stdout",
     "output_type": "stream",
     "text": [
      "[[ 5 10 15]\n",
      " [20 25 30]\n",
      " [35 40 45]]\n"
     ]
    },
    {
     "data": {
      "text/plain": [
       "array([[10, 15],\n",
       "       [25, 30]])"
      ]
     },
     "execution_count": 125,
     "metadata": {},
     "output_type": "execute_result"
    }
   ],
   "source": [
    "#In the case of a 2d array.\n",
    "array_1d = np.arange(5,50,5)\n",
    "array_2d= array_1d.reshape((3,3))\n",
    "print(array_2d)\n",
    "array_2d.shape\n",
    "#we can get specific terms of the array.Examples:\n",
    "array_2d[1,1]\n",
    "array_2d[:2,1:]\n",
    "#we can get subsets of the matrix. Wow. Very nice. :)\n",
    "#array_2d = np.array([5,10,15],[])"
   ]
  },
  {
   "cell_type": "code",
   "execution_count": 126,
   "id": "af614dc4",
   "metadata": {},
   "outputs": [
    {
     "data": {
      "text/plain": [
       "array([False,  True,  True,  True,  True,  True,  True,  True,  True])"
      ]
     },
     "execution_count": 126,
     "metadata": {},
     "output_type": "execute_result"
    }
   ],
   "source": [
    "#Lets now use comparisons and see the kind of stuff we can do:\n",
    "array_1d>5"
   ]
  },
  {
   "cell_type": "code",
   "execution_count": 129,
   "id": "8f79feb1",
   "metadata": {},
   "outputs": [
    {
     "data": {
      "text/plain": [
       "array([10, 15, 20, 25, 30, 35, 40, 45])"
      ]
     },
     "execution_count": 129,
     "metadata": {},
     "output_type": "execute_result"
    }
   ],
   "source": [
    "#So we can not write a boolean array!\n",
    "bool_array = array_1d>5\n",
    "#and make an array out of it!\n",
    "array_1d[bool_array]\n",
    "#The simplest way to do is:\n",
    "array_1d[array_1d>5]"
   ]
  },
  {
   "cell_type": "code",
   "execution_count": 136,
   "id": "57553ac1",
   "metadata": {},
   "outputs": [
    {
     "name": "stdout",
     "output_type": "stream",
     "text": [
      "19\n"
     ]
    },
    {
     "data": {
      "text/plain": [
       "19"
      ]
     },
     "execution_count": 136,
     "metadata": {},
     "output_type": "execute_result"
    }
   ],
   "source": [
    "import numpy as np\n",
    "dice_rolls = np.array([3, 1, 5, 2, 5, 1, 1, 5, 1, 4, 2, 1, 4, 5, 3, 4, 5, 2, 4, 2, 6, 6, 3, 6, 2, 3, 5, 6, 5])\n",
    "total_rolls_over_two = np.count_nonzero(dice_rolls>2)\n",
    "print(total_rolls_over_two)\n",
    "total_rolls_over_two = len(dice_rolls[dice_rolls>2])\n",
    "total_rolls_over_two"
   ]
  },
  {
   "cell_type": "code",
   "execution_count": 146,
   "id": "6b866c9a",
   "metadata": {},
   "outputs": [
    {
     "data": {
      "text/plain": [
       "dtype('float64')"
      ]
     },
     "execution_count": 146,
     "metadata": {},
     "output_type": "execute_result"
    }
   ],
   "source": [
    "#Arrays Operations\n",
    "array1=np.linspace(0,12,7)\n",
    "array1+array1\n",
    "#sum the elements one by one. The same with the other elemtns\n",
    "array1.dtype"
   ]
  },
  {
   "cell_type": "code",
   "execution_count": null,
   "id": "f5b344fe",
   "metadata": {},
   "outputs": [],
   "source": []
  }
 ],
 "metadata": {
  "kernelspec": {
   "display_name": "Python 3 (ipykernel)",
   "language": "python",
   "name": "python3"
  },
  "language_info": {
   "codemirror_mode": {
    "name": "ipython",
    "version": 3
   },
   "file_extension": ".py",
   "mimetype": "text/x-python",
   "name": "python",
   "nbconvert_exporter": "python",
   "pygments_lexer": "ipython3",
   "version": "3.9.12"
  }
 },
 "nbformat": 4,
 "nbformat_minor": 5
}
