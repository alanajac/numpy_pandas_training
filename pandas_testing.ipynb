{
 "cells": [
  {
   "cell_type": "code",
   "execution_count": 1,
   "id": "b6edd342",
   "metadata": {},
   "outputs": [
    {
     "name": "stdout",
     "output_type": "stream",
     "text": [
      "hello, panda!\n"
     ]
    }
   ],
   "source": [
    "print(\"hello, panda!\")"
   ]
  },
  {
   "cell_type": "code",
   "execution_count": 4,
   "id": "eac23ff6",
   "metadata": {},
   "outputs": [
    {
     "name": "stdout",
     "output_type": "stream",
     "text": [
      "ok, done!\n"
     ]
    }
   ],
   "source": [
    "#First thing: Series!\n",
    "#Index->\n",
    "import numpy as np,pandas as pd\n",
    "print(\"ok, done!\")\n"
   ]
  },
  {
   "cell_type": "code",
   "execution_count": 11,
   "id": "5b934983",
   "metadata": {},
   "outputs": [
    {
     "data": {
      "text/plain": [
       "1776"
      ]
     },
     "execution_count": 11,
     "metadata": {},
     "output_type": "execute_result"
    }
   ],
   "source": [
    "pd.Series\n",
    "#data and index are the main important things.\n",
    "myindex = ['USA','Canada', 'Mexico']\n",
    "mydata =[1776,1867,1821]\n",
    "myseries = pd.Series(data=mydata,index=myindex)\n",
    "myseries\n",
    "#Like a dictionary!\n",
    "myseries['USA']\n",
    "myseries[0]\n",
    "\n"
   ]
  },
  {
   "cell_type": "code",
   "execution_count": 14,
   "id": "cfae6c4b",
   "metadata": {},
   "outputs": [
    {
     "name": "stdout",
     "output_type": "stream",
     "text": [
      "{'Sam': 5, 'Frank': 10, 'Spike': 7}\n"
     ]
    },
    {
     "data": {
      "text/plain": [
       "Sam       5\n",
       "Frank    10\n",
       "Spike     7\n",
       "dtype: int64"
      ]
     },
     "execution_count": 14,
     "metadata": {},
     "output_type": "execute_result"
    }
   ],
   "source": [
    "#like dictionaries too:\n",
    "ages = {'Sam':5, 'Frank':10,'Spike':7}\n",
    "print(ages)\n",
    "pd.Series(ages)"
   ]
  },
  {
   "cell_type": "code",
   "execution_count": 15,
   "id": "ce39058a",
   "metadata": {},
   "outputs": [],
   "source": [
    "# Imaginary Sales Data for 1st and 2nd Quarters for Global Company\n",
    "q1 = {'Japan': 80, 'China': 450, 'India': 200, 'USA': 250}\n",
    "q2 = {'Brazil': 100,'China': 500, 'India': 210,'USA': 260}\n",
    "sales_q1=pd.Series(q1)\n",
    "sales_q2=pd.Series(q2)"
   ]
  },
  {
   "cell_type": "code",
   "execution_count": 16,
   "id": "1e23f094",
   "metadata": {},
   "outputs": [
    {
     "data": {
      "text/plain": [
       "80"
      ]
     },
     "execution_count": 16,
     "metadata": {},
     "output_type": "execute_result"
    }
   ],
   "source": [
    "sales_q1['Japan']"
   ]
  },
  {
   "cell_type": "code",
   "execution_count": 17,
   "id": "5990c86c",
   "metadata": {},
   "outputs": [
    {
     "data": {
      "text/plain": [
       "100"
      ]
     },
     "execution_count": 17,
     "metadata": {},
     "output_type": "execute_result"
    }
   ],
   "source": [
    "sales_q2[0]"
   ]
  },
  {
   "cell_type": "code",
   "execution_count": 18,
   "id": "05c0f2f5",
   "metadata": {},
   "outputs": [
    {
     "data": {
      "text/plain": [
       "Brazil         NaN\n",
       "China     225000.0\n",
       "India      42000.0\n",
       "Japan          NaN\n",
       "USA        65000.0\n",
       "dtype: float64"
      ]
     },
     "execution_count": 18,
     "metadata": {},
     "output_type": "execute_result"
    }
   ],
   "source": [
    "#Operations between Series\n",
    "sales_q1*sales_q2"
   ]
  },
  {
   "cell_type": "code",
   "execution_count": 23,
   "id": "8e991704",
   "metadata": {},
   "outputs": [
    {
     "data": {
      "text/plain": [
       "Brazil    100.0\n",
       "China     950.0\n",
       "India     410.0\n",
       "Japan      80.0\n",
       "USA       510.0\n",
       "dtype: float64"
      ]
     },
     "execution_count": 23,
     "metadata": {},
     "output_type": "execute_result"
    }
   ],
   "source": [
    "sales_q1/2\n",
    "#Lets use other commands!Ihuuu!\n",
    "#To fill value, we determine the default value in case there is no value in one of the columns\n",
    "#It will substitute de value when there is no value for a certain index.\n",
    "sales_q1.add(sales_q2,fill_value=0)\n"
   ]
  },
  {
   "cell_type": "code",
   "execution_count": 24,
   "id": "efde9055",
   "metadata": {},
   "outputs": [],
   "source": [
    "#While Doing operations between Series, it makes the operations according to the indexes.\n",
    "#DATA FRAMES\n",
    "#Create data frame\n",
    "#Grab column/row\n",
    "#Operations\n",
    "#Lets create a random data\n",
    "np.random.seed(101)\n",
    "mydata=np.random.randint(0,101,(4,3))"
   ]
  },
  {
   "cell_type": "code",
   "execution_count": 25,
   "id": "8537fe9d",
   "metadata": {},
   "outputs": [
    {
     "data": {
      "text/plain": [
       "array([[95, 11, 81],\n",
       "       [70, 63, 87],\n",
       "       [75,  9, 77],\n",
       "       [40,  4, 63]])"
      ]
     },
     "execution_count": 25,
     "metadata": {},
     "output_type": "execute_result"
    }
   ],
   "source": [
    "mydata"
   ]
  },
  {
   "cell_type": "code",
   "execution_count": 30,
   "id": "29a8f525",
   "metadata": {},
   "outputs": [
    {
     "name": "stdout",
     "output_type": "stream",
     "text": [
      "<class 'pandas.core.frame.DataFrame'>\n",
      "Index: 4 entries, PE to BA\n",
      "Data columns (total 3 columns):\n",
      " #   Column  Non-Null Count  Dtype\n",
      "---  ------  --------------  -----\n",
      " 0   Jan     4 non-null      int64\n",
      " 1   Feb     4 non-null      int64\n",
      " 2   Mar     4 non-null      int64\n",
      "dtypes: int64(3)\n",
      "memory usage: 128.0+ bytes\n"
     ]
    },
    {
     "data": {
      "text/html": [
       "<div>\n",
       "<style scoped>\n",
       "    .dataframe tbody tr th:only-of-type {\n",
       "        vertical-align: middle;\n",
       "    }\n",
       "\n",
       "    .dataframe tbody tr th {\n",
       "        vertical-align: top;\n",
       "    }\n",
       "\n",
       "    .dataframe thead th {\n",
       "        text-align: right;\n",
       "    }\n",
       "</style>\n",
       "<table border=\"1\" class=\"dataframe\">\n",
       "  <thead>\n",
       "    <tr style=\"text-align: right;\">\n",
       "      <th></th>\n",
       "      <th>Jan</th>\n",
       "      <th>Feb</th>\n",
       "      <th>Mar</th>\n",
       "    </tr>\n",
       "  </thead>\n",
       "  <tbody>\n",
       "    <tr>\n",
       "      <th>count</th>\n",
       "      <td>4.000000</td>\n",
       "      <td>4.000000</td>\n",
       "      <td>4.000000</td>\n",
       "    </tr>\n",
       "    <tr>\n",
       "      <th>mean</th>\n",
       "      <td>70.000000</td>\n",
       "      <td>21.750000</td>\n",
       "      <td>77.000000</td>\n",
       "    </tr>\n",
       "    <tr>\n",
       "      <th>std</th>\n",
       "      <td>22.730303</td>\n",
       "      <td>27.657127</td>\n",
       "      <td>10.198039</td>\n",
       "    </tr>\n",
       "    <tr>\n",
       "      <th>min</th>\n",
       "      <td>40.000000</td>\n",
       "      <td>4.000000</td>\n",
       "      <td>63.000000</td>\n",
       "    </tr>\n",
       "    <tr>\n",
       "      <th>25%</th>\n",
       "      <td>62.500000</td>\n",
       "      <td>7.750000</td>\n",
       "      <td>73.500000</td>\n",
       "    </tr>\n",
       "    <tr>\n",
       "      <th>50%</th>\n",
       "      <td>72.500000</td>\n",
       "      <td>10.000000</td>\n",
       "      <td>79.000000</td>\n",
       "    </tr>\n",
       "    <tr>\n",
       "      <th>75%</th>\n",
       "      <td>80.000000</td>\n",
       "      <td>24.000000</td>\n",
       "      <td>82.500000</td>\n",
       "    </tr>\n",
       "    <tr>\n",
       "      <th>max</th>\n",
       "      <td>95.000000</td>\n",
       "      <td>63.000000</td>\n",
       "      <td>87.000000</td>\n",
       "    </tr>\n",
       "  </tbody>\n",
       "</table>\n",
       "</div>"
      ],
      "text/plain": [
       "             Jan        Feb        Mar\n",
       "count   4.000000   4.000000   4.000000\n",
       "mean   70.000000  21.750000  77.000000\n",
       "std    22.730303  27.657127  10.198039\n",
       "min    40.000000   4.000000  63.000000\n",
       "25%    62.500000   7.750000  73.500000\n",
       "50%    72.500000  10.000000  79.000000\n",
       "75%    80.000000  24.000000  82.500000\n",
       "max    95.000000  63.000000  87.000000"
      ]
     },
     "execution_count": 30,
     "metadata": {},
     "output_type": "execute_result"
    }
   ],
   "source": [
    "myindex = ['PE','RN','MG','BA']\n",
    "mycolumns = ['Jan','Feb','Mar']\n",
    "df = pd.DataFrame(data=mydata,index=myindex,columns=mycolumns)\n",
    "#other important methods to use.\n",
    "df.info()\n",
    "df.describe()"
   ]
  },
  {
   "cell_type": "code",
   "execution_count": 32,
   "id": "72f5d151",
   "metadata": {},
   "outputs": [
    {
     "ename": "NameError",
     "evalue": "name 'pwd' is not defined",
     "output_type": "error",
     "traceback": [
      "\u001b[0;31m---------------------------------------------------------------------------\u001b[0m",
      "\u001b[0;31mNameError\u001b[0m                                 Traceback (most recent call last)",
      "Input \u001b[0;32mIn [32]\u001b[0m, in \u001b[0;36m<cell line: 3>\u001b[0;34m()\u001b[0m\n\u001b[1;32m      1\u001b[0m \u001b[38;5;66;03m#csv -> comma separable variable!Wooooow!\u001b[39;00m\n\u001b[1;32m      2\u001b[0m \u001b[38;5;66;03m#Where is your python file is located, and where is my python code located?\u001b[39;00m\n\u001b[0;32m----> 3\u001b[0m \u001b[43mpwd\u001b[49m\n",
      "\u001b[0;31mNameError\u001b[0m: name 'pwd' is not defined"
     ]
    }
   ],
   "source": [
    "#csv -> comma separable variable!Wooooow!\n",
    "#Where is your python file is located, and where is my python code located?\n",
    "pwd"
   ]
  },
  {
   "cell_type": "code",
   "execution_count": null,
   "id": "e0a83270",
   "metadata": {},
   "outputs": [],
   "source": [
    "#How to open csv files?Easy peasy!\n",
    "df = pd.read_csv()"
   ]
  }
 ],
 "metadata": {
  "kernelspec": {
   "display_name": "Python 3 (ipykernel)",
   "language": "python",
   "name": "python3"
  },
  "language_info": {
   "codemirror_mode": {
    "name": "ipython",
    "version": 3
   },
   "file_extension": ".py",
   "mimetype": "text/x-python",
   "name": "python",
   "nbconvert_exporter": "python",
   "pygments_lexer": "ipython3",
   "version": "3.9.12"
  }
 },
 "nbformat": 4,
 "nbformat_minor": 5
}
