{
 "cells": [
  {
   "cell_type": "code",
   "execution_count": 1,
   "id": "27a575ba",
   "metadata": {},
   "outputs": [
    {
     "name": "stdout",
     "output_type": "stream",
     "text": [
      "hello, panda!\n"
     ]
    }
   ],
   "source": [
    "print(\"hello, panda!\")"
   ]
  },
  {
   "cell_type": "code",
   "execution_count": 4,
   "id": "e1756fb7",
   "metadata": {},
   "outputs": [
    {
     "name": "stdout",
     "output_type": "stream",
     "text": [
      "ok, done!\n"
     ]
    }
   ],
   "source": [
    "#First thing: Series!\n",
    "#Index->\n",
    "import numpy as np,pandas as pd\n",
    "print(\"ok, done!\")\n"
   ]
  },
  {
   "cell_type": "code",
   "execution_count": 11,
   "id": "6b958aa3",
   "metadata": {},
   "outputs": [
    {
     "data": {
      "text/plain": [
       "1776"
      ]
     },
     "execution_count": 11,
     "metadata": {},
     "output_type": "execute_result"
    }
   ],
   "source": [
    "pd.Series\n",
    "#data and index are the main important things.\n",
    "myindex = ['USA','Canada', 'Mexico']\n",
    "mydata =[1776,1867,1821]\n",
    "myseries = pd.Series(data=mydata,index=myindex)\n",
    "myseries\n",
    "#Like a dictionary!\n",
    "myseries['USA']\n",
    "myseries[0]\n",
    "\n"
   ]
  },
  {
   "cell_type": "code",
   "execution_count": 14,
   "id": "b8442fc3",
   "metadata": {},
   "outputs": [
    {
     "name": "stdout",
     "output_type": "stream",
     "text": [
      "{'Sam': 5, 'Frank': 10, 'Spike': 7}\n"
     ]
    },
    {
     "data": {
      "text/plain": [
       "Sam       5\n",
       "Frank    10\n",
       "Spike     7\n",
       "dtype: int64"
      ]
     },
     "execution_count": 14,
     "metadata": {},
     "output_type": "execute_result"
    }
   ],
   "source": [
    "#like dictionaries too:\n",
    "ages = {'Sam':5, 'Frank':10,'Spike':7}\n",
    "print(ages)\n",
    "pd.Series(ages)"
   ]
  },
  {
   "cell_type": "code",
   "execution_count": 15,
   "id": "da2340f4",
   "metadata": {},
   "outputs": [],
   "source": [
    "# Imaginary Sales Data for 1st and 2nd Quarters for Global Company\n",
    "q1 = {'Japan': 80, 'China': 450, 'India': 200, 'USA': 250}\n",
    "q2 = {'Brazil': 100,'China': 500, 'India': 210,'USA': 260}\n",
    "sales_q1=pd.Series(q1)\n",
    "sales_q2=pd.Series(q2)"
   ]
  },
  {
   "cell_type": "code",
   "execution_count": 16,
   "id": "85b051fc",
   "metadata": {},
   "outputs": [
    {
     "data": {
      "text/plain": [
       "80"
      ]
     },
     "execution_count": 16,
     "metadata": {},
     "output_type": "execute_result"
    }
   ],
   "source": [
    "sales_q1['Japan']"
   ]
  },
  {
   "cell_type": "code",
   "execution_count": 17,
   "id": "ee22a9dd",
   "metadata": {},
   "outputs": [
    {
     "data": {
      "text/plain": [
       "100"
      ]
     },
     "execution_count": 17,
     "metadata": {},
     "output_type": "execute_result"
    }
   ],
   "source": [
    "sales_q2[0]"
   ]
  },
  {
   "cell_type": "code",
   "execution_count": 18,
   "id": "b68837b4",
   "metadata": {},
   "outputs": [
    {
     "data": {
      "text/plain": [
       "Brazil         NaN\n",
       "China     225000.0\n",
       "India      42000.0\n",
       "Japan          NaN\n",
       "USA        65000.0\n",
       "dtype: float64"
      ]
     },
     "execution_count": 18,
     "metadata": {},
     "output_type": "execute_result"
    }
   ],
   "source": [
    "#Operations between Series\n",
    "sales_q1*sales_q2"
   ]
  },
  {
   "cell_type": "code",
   "execution_count": 23,
   "id": "8caad3d5",
   "metadata": {},
   "outputs": [
    {
     "data": {
      "text/plain": [
       "Brazil    100.0\n",
       "China     950.0\n",
       "India     410.0\n",
       "Japan      80.0\n",
       "USA       510.0\n",
       "dtype: float64"
      ]
     },
     "execution_count": 23,
     "metadata": {},
     "output_type": "execute_result"
    }
   ],
   "source": [
    "sales_q1/2\n",
    "#Lets use other commands!Ihuuu!\n",
    "#To fill value, we determine the default value in case there is no value in one of the columns\n",
    "#It will substitute de value when there is no value for a certain index.\n",
    "sales_q1.add(sales_q2,fill_value=0)\n"
   ]
  },
  {
   "cell_type": "code",
   "execution_count": 24,
   "id": "9e36ef4f",
   "metadata": {},
   "outputs": [],
   "source": [
    "#While Doing operations between Series, it makes the operations according to the indexes.\n",
    "#DATA FRAMES\n",
    "#Create data frame\n",
    "#Grab column/row\n",
    "#Operations\n",
    "#Lets create a random data\n",
    "np.random.seed(101)\n",
    "mydata=np.random.randint(0,101,(4,3))"
   ]
  },
  {
   "cell_type": "code",
   "execution_count": 25,
   "id": "be951543",
   "metadata": {},
   "outputs": [
    {
     "data": {
      "text/plain": [
       "array([[95, 11, 81],\n",
       "       [70, 63, 87],\n",
       "       [75,  9, 77],\n",
       "       [40,  4, 63]])"
      ]
     },
     "execution_count": 25,
     "metadata": {},
     "output_type": "execute_result"
    }
   ],
   "source": [
    "mydata"
   ]
  },
  {
   "cell_type": "code",
   "execution_count": 38,
   "id": "51e2e882",
   "metadata": {},
   "outputs": [
    {
     "name": "stdout",
     "output_type": "stream",
     "text": [
      "<class 'pandas.core.frame.DataFrame'>\n",
      "Index: 4 entries, PE to BA\n",
      "Data columns (total 3 columns):\n",
      " #   Column  Non-Null Count  Dtype\n",
      "---  ------  --------------  -----\n",
      " 0   Jan     4 non-null      int64\n",
      " 1   Feb     4 non-null      int64\n",
      " 2   Mar     4 non-null      int64\n",
      "dtypes: int64(3)\n",
      "memory usage: 128.0+ bytes\n"
     ]
    },
    {
     "data": {
      "text/html": [
       "<div>\n",
       "<style scoped>\n",
       "    .dataframe tbody tr th:only-of-type {\n",
       "        vertical-align: middle;\n",
       "    }\n",
       "\n",
       "    .dataframe tbody tr th {\n",
       "        vertical-align: top;\n",
       "    }\n",
       "\n",
       "    .dataframe thead th {\n",
       "        text-align: right;\n",
       "    }\n",
       "</style>\n",
       "<table border=\"1\" class=\"dataframe\">\n",
       "  <thead>\n",
       "    <tr style=\"text-align: right;\">\n",
       "      <th></th>\n",
       "      <th>Jan</th>\n",
       "      <th>Feb</th>\n",
       "      <th>Mar</th>\n",
       "    </tr>\n",
       "  </thead>\n",
       "  <tbody>\n",
       "    <tr>\n",
       "      <th>count</th>\n",
       "      <td>4.000000</td>\n",
       "      <td>4.000000</td>\n",
       "      <td>4.000000</td>\n",
       "    </tr>\n",
       "    <tr>\n",
       "      <th>mean</th>\n",
       "      <td>70.000000</td>\n",
       "      <td>21.750000</td>\n",
       "      <td>77.000000</td>\n",
       "    </tr>\n",
       "    <tr>\n",
       "      <th>std</th>\n",
       "      <td>22.730303</td>\n",
       "      <td>27.657127</td>\n",
       "      <td>10.198039</td>\n",
       "    </tr>\n",
       "    <tr>\n",
       "      <th>min</th>\n",
       "      <td>40.000000</td>\n",
       "      <td>4.000000</td>\n",
       "      <td>63.000000</td>\n",
       "    </tr>\n",
       "    <tr>\n",
       "      <th>25%</th>\n",
       "      <td>62.500000</td>\n",
       "      <td>7.750000</td>\n",
       "      <td>73.500000</td>\n",
       "    </tr>\n",
       "    <tr>\n",
       "      <th>50%</th>\n",
       "      <td>72.500000</td>\n",
       "      <td>10.000000</td>\n",
       "      <td>79.000000</td>\n",
       "    </tr>\n",
       "    <tr>\n",
       "      <th>75%</th>\n",
       "      <td>80.000000</td>\n",
       "      <td>24.000000</td>\n",
       "      <td>82.500000</td>\n",
       "    </tr>\n",
       "    <tr>\n",
       "      <th>max</th>\n",
       "      <td>95.000000</td>\n",
       "      <td>63.000000</td>\n",
       "      <td>87.000000</td>\n",
       "    </tr>\n",
       "  </tbody>\n",
       "</table>\n",
       "</div>"
      ],
      "text/plain": [
       "             Jan        Feb        Mar\n",
       "count   4.000000   4.000000   4.000000\n",
       "mean   70.000000  21.750000  77.000000\n",
       "std    22.730303  27.657127  10.198039\n",
       "min    40.000000   4.000000  63.000000\n",
       "25%    62.500000   7.750000  73.500000\n",
       "50%    72.500000  10.000000  79.000000\n",
       "75%    80.000000  24.000000  82.500000\n",
       "max    95.000000  63.000000  87.000000"
      ]
     },
     "execution_count": 38,
     "metadata": {},
     "output_type": "execute_result"
    }
   ],
   "source": [
    "myindex = ['PE','RN','MG','BA']\n",
    "mycolumns = ['Jan','Feb','Mar']\n",
    "df = pd.DataFrame(data=mydata,index=myindex,columns=mycolumns)\n",
    "#other important methods to use.\n",
    "df.info()\n",
    "df.describe()"
   ]
  },
  {
   "cell_type": "code",
   "execution_count": 51,
   "id": "61fecfa8",
   "metadata": {},
   "outputs": [],
   "source": [
    "#csv -> comma separable variable!Wooooow!\n",
    "#Where is your python file is located, and where is my python code located?\n"
   ]
  },
  {
   "cell_type": "code",
   "execution_count": 53,
   "id": "fa2b43b6",
   "metadata": {},
   "outputs": [
    {
     "name": "stdout",
     "output_type": "stream",
     "text": [
      "<class 'pandas.core.frame.DataFrame'>\n",
      "RangeIndex: 244 entries, 0 to 243\n",
      "Data columns (total 11 columns):\n",
      " #   Column            Non-Null Count  Dtype  \n",
      "---  ------            --------------  -----  \n",
      " 0   total_bill        244 non-null    float64\n",
      " 1   tip               244 non-null    float64\n",
      " 2   sex               244 non-null    object \n",
      " 3   smoker            244 non-null    object \n",
      " 4   day               244 non-null    object \n",
      " 5   time              244 non-null    object \n",
      " 6   size              244 non-null    int64  \n",
      " 7   price_per_person  244 non-null    float64\n",
      " 8   Payer Name        244 non-null    object \n",
      " 9   CC Number         244 non-null    int64  \n",
      " 10  Payment ID        244 non-null    object \n",
      "dtypes: float64(3), int64(2), object(6)\n",
      "memory usage: 21.1+ KB\n"
     ]
    }
   ],
   "source": [
    "#How to open csv files?Easy peasy!\n",
    "df = pd.read_csv('tips.csv')\n",
    "df.head(10)\n",
    "df.tail(10)\n",
    "df.describe()\n",
    "#SOme nice commands\n",
    "df.columns\n",
    "df.index\n",
    "df.info()\n",
    "#Another method. transpose will exchange the position of the column names for the index names(rows)\n"
   ]
  },
  {
   "cell_type": "code",
   "execution_count": 59,
   "id": "7cf801d0",
   "metadata": {},
   "outputs": [
    {
     "data": {
      "text/plain": [
       "pandas.core.series.Series"
      ]
     },
     "execution_count": 59,
     "metadata": {},
     "output_type": "execute_result"
    }
   ],
   "source": [
    "#This will define a series for the column total_bill\n",
    "df['total_bill'].head(10)\n",
    "pd.core.series.Series"
   ]
  },
  {
   "cell_type": "code",
   "execution_count": 61,
   "id": "7a56091b",
   "metadata": {},
   "outputs": [
    {
     "data": {
      "text/plain": [
       "0       5.944673\n",
       "1      16.054159\n",
       "2      16.658734\n",
       "3      13.978041\n",
       "4      14.680765\n",
       "         ...    \n",
       "239    20.392697\n",
       "240     7.358352\n",
       "241     8.822232\n",
       "242     9.820426\n",
       "243    15.974441\n",
       "Length: 244, dtype: float64"
      ]
     },
     "execution_count": 61,
     "metadata": {},
     "output_type": "execute_result"
    }
   ],
   "source": [
    "#We can split the data frame in one or more series\n",
    "#Example for two columns\n",
    "mycols=['total_bill','tip']\n",
    "df[mycols]\n",
    "#lets now create a new column to calculate the percentage of tips in relation to the total bill:\n",
    "100*df['tip']/df['total_bill']"
   ]
  },
  {
   "cell_type": "code",
   "execution_count": 62,
   "id": "a88f0dea",
   "metadata": {},
   "outputs": [],
   "source": [
    "#So lets create a new column with that data\n",
    "df['tip_percentage']=100*df['tip']/df['total_bill']"
   ]
  },
  {
   "cell_type": "code",
   "execution_count": 63,
   "id": "c5e30f13",
   "metadata": {},
   "outputs": [
    {
     "data": {
      "text/html": [
       "<div>\n",
       "<style scoped>\n",
       "    .dataframe tbody tr th:only-of-type {\n",
       "        vertical-align: middle;\n",
       "    }\n",
       "\n",
       "    .dataframe tbody tr th {\n",
       "        vertical-align: top;\n",
       "    }\n",
       "\n",
       "    .dataframe thead th {\n",
       "        text-align: right;\n",
       "    }\n",
       "</style>\n",
       "<table border=\"1\" class=\"dataframe\">\n",
       "  <thead>\n",
       "    <tr style=\"text-align: right;\">\n",
       "      <th></th>\n",
       "      <th>total_bill</th>\n",
       "      <th>tip</th>\n",
       "      <th>sex</th>\n",
       "      <th>smoker</th>\n",
       "      <th>day</th>\n",
       "      <th>time</th>\n",
       "      <th>size</th>\n",
       "      <th>price_per_person</th>\n",
       "      <th>Payer Name</th>\n",
       "      <th>CC Number</th>\n",
       "      <th>Payment ID</th>\n",
       "      <th>tip_percentage</th>\n",
       "    </tr>\n",
       "  </thead>\n",
       "  <tbody>\n",
       "    <tr>\n",
       "      <th>0</th>\n",
       "      <td>16.99</td>\n",
       "      <td>1.01</td>\n",
       "      <td>Female</td>\n",
       "      <td>No</td>\n",
       "      <td>Sun</td>\n",
       "      <td>Dinner</td>\n",
       "      <td>2</td>\n",
       "      <td>8.49</td>\n",
       "      <td>Christy Cunningham</td>\n",
       "      <td>3560325168603410</td>\n",
       "      <td>Sun2959</td>\n",
       "      <td>5.944673</td>\n",
       "    </tr>\n",
       "    <tr>\n",
       "      <th>1</th>\n",
       "      <td>10.34</td>\n",
       "      <td>1.66</td>\n",
       "      <td>Male</td>\n",
       "      <td>No</td>\n",
       "      <td>Sun</td>\n",
       "      <td>Dinner</td>\n",
       "      <td>3</td>\n",
       "      <td>3.45</td>\n",
       "      <td>Douglas Tucker</td>\n",
       "      <td>4478071379779230</td>\n",
       "      <td>Sun4608</td>\n",
       "      <td>16.054159</td>\n",
       "    </tr>\n",
       "    <tr>\n",
       "      <th>2</th>\n",
       "      <td>21.01</td>\n",
       "      <td>3.50</td>\n",
       "      <td>Male</td>\n",
       "      <td>No</td>\n",
       "      <td>Sun</td>\n",
       "      <td>Dinner</td>\n",
       "      <td>3</td>\n",
       "      <td>7.00</td>\n",
       "      <td>Travis Walters</td>\n",
       "      <td>6011812112971322</td>\n",
       "      <td>Sun4458</td>\n",
       "      <td>16.658734</td>\n",
       "    </tr>\n",
       "    <tr>\n",
       "      <th>3</th>\n",
       "      <td>23.68</td>\n",
       "      <td>3.31</td>\n",
       "      <td>Male</td>\n",
       "      <td>No</td>\n",
       "      <td>Sun</td>\n",
       "      <td>Dinner</td>\n",
       "      <td>2</td>\n",
       "      <td>11.84</td>\n",
       "      <td>Nathaniel Harris</td>\n",
       "      <td>4676137647685994</td>\n",
       "      <td>Sun5260</td>\n",
       "      <td>13.978041</td>\n",
       "    </tr>\n",
       "    <tr>\n",
       "      <th>4</th>\n",
       "      <td>24.59</td>\n",
       "      <td>3.61</td>\n",
       "      <td>Female</td>\n",
       "      <td>No</td>\n",
       "      <td>Sun</td>\n",
       "      <td>Dinner</td>\n",
       "      <td>4</td>\n",
       "      <td>6.15</td>\n",
       "      <td>Tonya Carter</td>\n",
       "      <td>4832732618637221</td>\n",
       "      <td>Sun2251</td>\n",
       "      <td>14.680765</td>\n",
       "    </tr>\n",
       "    <tr>\n",
       "      <th>5</th>\n",
       "      <td>25.29</td>\n",
       "      <td>4.71</td>\n",
       "      <td>Male</td>\n",
       "      <td>No</td>\n",
       "      <td>Sun</td>\n",
       "      <td>Dinner</td>\n",
       "      <td>4</td>\n",
       "      <td>6.32</td>\n",
       "      <td>Erik Smith</td>\n",
       "      <td>213140353657882</td>\n",
       "      <td>Sun9679</td>\n",
       "      <td>18.623962</td>\n",
       "    </tr>\n",
       "    <tr>\n",
       "      <th>6</th>\n",
       "      <td>8.77</td>\n",
       "      <td>2.00</td>\n",
       "      <td>Male</td>\n",
       "      <td>No</td>\n",
       "      <td>Sun</td>\n",
       "      <td>Dinner</td>\n",
       "      <td>2</td>\n",
       "      <td>4.38</td>\n",
       "      <td>Kristopher Johnson</td>\n",
       "      <td>2223727524230344</td>\n",
       "      <td>Sun5985</td>\n",
       "      <td>22.805017</td>\n",
       "    </tr>\n",
       "    <tr>\n",
       "      <th>7</th>\n",
       "      <td>26.88</td>\n",
       "      <td>3.12</td>\n",
       "      <td>Male</td>\n",
       "      <td>No</td>\n",
       "      <td>Sun</td>\n",
       "      <td>Dinner</td>\n",
       "      <td>4</td>\n",
       "      <td>6.72</td>\n",
       "      <td>Robert Buck</td>\n",
       "      <td>3514785077705092</td>\n",
       "      <td>Sun8157</td>\n",
       "      <td>11.607143</td>\n",
       "    </tr>\n",
       "    <tr>\n",
       "      <th>8</th>\n",
       "      <td>15.04</td>\n",
       "      <td>1.96</td>\n",
       "      <td>Male</td>\n",
       "      <td>No</td>\n",
       "      <td>Sun</td>\n",
       "      <td>Dinner</td>\n",
       "      <td>2</td>\n",
       "      <td>7.52</td>\n",
       "      <td>Joseph Mcdonald</td>\n",
       "      <td>3522866365840377</td>\n",
       "      <td>Sun6820</td>\n",
       "      <td>13.031915</td>\n",
       "    </tr>\n",
       "    <tr>\n",
       "      <th>9</th>\n",
       "      <td>14.78</td>\n",
       "      <td>3.23</td>\n",
       "      <td>Male</td>\n",
       "      <td>No</td>\n",
       "      <td>Sun</td>\n",
       "      <td>Dinner</td>\n",
       "      <td>2</td>\n",
       "      <td>7.39</td>\n",
       "      <td>Jerome Abbott</td>\n",
       "      <td>3532124519049786</td>\n",
       "      <td>Sun3775</td>\n",
       "      <td>21.853857</td>\n",
       "    </tr>\n",
       "  </tbody>\n",
       "</table>\n",
       "</div>"
      ],
      "text/plain": [
       "   total_bill   tip     sex smoker  day    time  size  price_per_person  \\\n",
       "0       16.99  1.01  Female     No  Sun  Dinner     2              8.49   \n",
       "1       10.34  1.66    Male     No  Sun  Dinner     3              3.45   \n",
       "2       21.01  3.50    Male     No  Sun  Dinner     3              7.00   \n",
       "3       23.68  3.31    Male     No  Sun  Dinner     2             11.84   \n",
       "4       24.59  3.61  Female     No  Sun  Dinner     4              6.15   \n",
       "5       25.29  4.71    Male     No  Sun  Dinner     4              6.32   \n",
       "6        8.77  2.00    Male     No  Sun  Dinner     2              4.38   \n",
       "7       26.88  3.12    Male     No  Sun  Dinner     4              6.72   \n",
       "8       15.04  1.96    Male     No  Sun  Dinner     2              7.52   \n",
       "9       14.78  3.23    Male     No  Sun  Dinner     2              7.39   \n",
       "\n",
       "           Payer Name         CC Number Payment ID  tip_percentage  \n",
       "0  Christy Cunningham  3560325168603410    Sun2959        5.944673  \n",
       "1      Douglas Tucker  4478071379779230    Sun4608       16.054159  \n",
       "2      Travis Walters  6011812112971322    Sun4458       16.658734  \n",
       "3    Nathaniel Harris  4676137647685994    Sun5260       13.978041  \n",
       "4        Tonya Carter  4832732618637221    Sun2251       14.680765  \n",
       "5          Erik Smith   213140353657882    Sun9679       18.623962  \n",
       "6  Kristopher Johnson  2223727524230344    Sun5985       22.805017  \n",
       "7         Robert Buck  3514785077705092    Sun8157       11.607143  \n",
       "8     Joseph Mcdonald  3522866365840377    Sun6820       13.031915  \n",
       "9       Jerome Abbott  3532124519049786    Sun3775       21.853857  "
      ]
     },
     "execution_count": 63,
     "metadata": {},
     "output_type": "execute_result"
    }
   ],
   "source": [
    "df.head(10)"
   ]
  },
  {
   "cell_type": "code",
   "execution_count": 65,
   "id": "6036ae6f",
   "metadata": {},
   "outputs": [],
   "source": [
    "#If you reference a column that already exists and assign new values, they will be overwritten.\n",
    "#example-we sont run it\n",
    "#df['price_per_person']=df['total_bill']/df['size']\n",
    "#Lets use some universal functions to round out the values of a column\n",
    "df['price_per_person']=np.round(df['total_bill']/df['size'],2)"
   ]
  },
  {
   "cell_type": "code",
   "execution_count": 66,
   "id": "0e313414",
   "metadata": {},
   "outputs": [
    {
     "data": {
      "text/html": [
       "<div>\n",
       "<style scoped>\n",
       "    .dataframe tbody tr th:only-of-type {\n",
       "        vertical-align: middle;\n",
       "    }\n",
       "\n",
       "    .dataframe tbody tr th {\n",
       "        vertical-align: top;\n",
       "    }\n",
       "\n",
       "    .dataframe thead th {\n",
       "        text-align: right;\n",
       "    }\n",
       "</style>\n",
       "<table border=\"1\" class=\"dataframe\">\n",
       "  <thead>\n",
       "    <tr style=\"text-align: right;\">\n",
       "      <th></th>\n",
       "      <th>total_bill</th>\n",
       "      <th>tip</th>\n",
       "      <th>sex</th>\n",
       "      <th>smoker</th>\n",
       "      <th>day</th>\n",
       "      <th>time</th>\n",
       "      <th>size</th>\n",
       "      <th>price_per_person</th>\n",
       "      <th>Payer Name</th>\n",
       "      <th>CC Number</th>\n",
       "      <th>Payment ID</th>\n",
       "      <th>tip_percentage</th>\n",
       "    </tr>\n",
       "  </thead>\n",
       "  <tbody>\n",
       "    <tr>\n",
       "      <th>0</th>\n",
       "      <td>16.99</td>\n",
       "      <td>1.01</td>\n",
       "      <td>Female</td>\n",
       "      <td>No</td>\n",
       "      <td>Sun</td>\n",
       "      <td>Dinner</td>\n",
       "      <td>2</td>\n",
       "      <td>8.49</td>\n",
       "      <td>Christy Cunningham</td>\n",
       "      <td>3560325168603410</td>\n",
       "      <td>Sun2959</td>\n",
       "      <td>5.944673</td>\n",
       "    </tr>\n",
       "    <tr>\n",
       "      <th>1</th>\n",
       "      <td>10.34</td>\n",
       "      <td>1.66</td>\n",
       "      <td>Male</td>\n",
       "      <td>No</td>\n",
       "      <td>Sun</td>\n",
       "      <td>Dinner</td>\n",
       "      <td>3</td>\n",
       "      <td>3.45</td>\n",
       "      <td>Douglas Tucker</td>\n",
       "      <td>4478071379779230</td>\n",
       "      <td>Sun4608</td>\n",
       "      <td>16.054159</td>\n",
       "    </tr>\n",
       "    <tr>\n",
       "      <th>2</th>\n",
       "      <td>21.01</td>\n",
       "      <td>3.50</td>\n",
       "      <td>Male</td>\n",
       "      <td>No</td>\n",
       "      <td>Sun</td>\n",
       "      <td>Dinner</td>\n",
       "      <td>3</td>\n",
       "      <td>7.00</td>\n",
       "      <td>Travis Walters</td>\n",
       "      <td>6011812112971322</td>\n",
       "      <td>Sun4458</td>\n",
       "      <td>16.658734</td>\n",
       "    </tr>\n",
       "    <tr>\n",
       "      <th>3</th>\n",
       "      <td>23.68</td>\n",
       "      <td>3.31</td>\n",
       "      <td>Male</td>\n",
       "      <td>No</td>\n",
       "      <td>Sun</td>\n",
       "      <td>Dinner</td>\n",
       "      <td>2</td>\n",
       "      <td>11.84</td>\n",
       "      <td>Nathaniel Harris</td>\n",
       "      <td>4676137647685994</td>\n",
       "      <td>Sun5260</td>\n",
       "      <td>13.978041</td>\n",
       "    </tr>\n",
       "    <tr>\n",
       "      <th>4</th>\n",
       "      <td>24.59</td>\n",
       "      <td>3.61</td>\n",
       "      <td>Female</td>\n",
       "      <td>No</td>\n",
       "      <td>Sun</td>\n",
       "      <td>Dinner</td>\n",
       "      <td>4</td>\n",
       "      <td>6.15</td>\n",
       "      <td>Tonya Carter</td>\n",
       "      <td>4832732618637221</td>\n",
       "      <td>Sun2251</td>\n",
       "      <td>14.680765</td>\n",
       "    </tr>\n",
       "    <tr>\n",
       "      <th>5</th>\n",
       "      <td>25.29</td>\n",
       "      <td>4.71</td>\n",
       "      <td>Male</td>\n",
       "      <td>No</td>\n",
       "      <td>Sun</td>\n",
       "      <td>Dinner</td>\n",
       "      <td>4</td>\n",
       "      <td>6.32</td>\n",
       "      <td>Erik Smith</td>\n",
       "      <td>213140353657882</td>\n",
       "      <td>Sun9679</td>\n",
       "      <td>18.623962</td>\n",
       "    </tr>\n",
       "    <tr>\n",
       "      <th>6</th>\n",
       "      <td>8.77</td>\n",
       "      <td>2.00</td>\n",
       "      <td>Male</td>\n",
       "      <td>No</td>\n",
       "      <td>Sun</td>\n",
       "      <td>Dinner</td>\n",
       "      <td>2</td>\n",
       "      <td>4.38</td>\n",
       "      <td>Kristopher Johnson</td>\n",
       "      <td>2223727524230344</td>\n",
       "      <td>Sun5985</td>\n",
       "      <td>22.805017</td>\n",
       "    </tr>\n",
       "    <tr>\n",
       "      <th>7</th>\n",
       "      <td>26.88</td>\n",
       "      <td>3.12</td>\n",
       "      <td>Male</td>\n",
       "      <td>No</td>\n",
       "      <td>Sun</td>\n",
       "      <td>Dinner</td>\n",
       "      <td>4</td>\n",
       "      <td>6.72</td>\n",
       "      <td>Robert Buck</td>\n",
       "      <td>3514785077705092</td>\n",
       "      <td>Sun8157</td>\n",
       "      <td>11.607143</td>\n",
       "    </tr>\n",
       "    <tr>\n",
       "      <th>8</th>\n",
       "      <td>15.04</td>\n",
       "      <td>1.96</td>\n",
       "      <td>Male</td>\n",
       "      <td>No</td>\n",
       "      <td>Sun</td>\n",
       "      <td>Dinner</td>\n",
       "      <td>2</td>\n",
       "      <td>7.52</td>\n",
       "      <td>Joseph Mcdonald</td>\n",
       "      <td>3522866365840377</td>\n",
       "      <td>Sun6820</td>\n",
       "      <td>13.031915</td>\n",
       "    </tr>\n",
       "    <tr>\n",
       "      <th>9</th>\n",
       "      <td>14.78</td>\n",
       "      <td>3.23</td>\n",
       "      <td>Male</td>\n",
       "      <td>No</td>\n",
       "      <td>Sun</td>\n",
       "      <td>Dinner</td>\n",
       "      <td>2</td>\n",
       "      <td>7.39</td>\n",
       "      <td>Jerome Abbott</td>\n",
       "      <td>3532124519049786</td>\n",
       "      <td>Sun3775</td>\n",
       "      <td>21.853857</td>\n",
       "    </tr>\n",
       "  </tbody>\n",
       "</table>\n",
       "</div>"
      ],
      "text/plain": [
       "   total_bill   tip     sex smoker  day    time  size  price_per_person  \\\n",
       "0       16.99  1.01  Female     No  Sun  Dinner     2              8.49   \n",
       "1       10.34  1.66    Male     No  Sun  Dinner     3              3.45   \n",
       "2       21.01  3.50    Male     No  Sun  Dinner     3              7.00   \n",
       "3       23.68  3.31    Male     No  Sun  Dinner     2             11.84   \n",
       "4       24.59  3.61  Female     No  Sun  Dinner     4              6.15   \n",
       "5       25.29  4.71    Male     No  Sun  Dinner     4              6.32   \n",
       "6        8.77  2.00    Male     No  Sun  Dinner     2              4.38   \n",
       "7       26.88  3.12    Male     No  Sun  Dinner     4              6.72   \n",
       "8       15.04  1.96    Male     No  Sun  Dinner     2              7.52   \n",
       "9       14.78  3.23    Male     No  Sun  Dinner     2              7.39   \n",
       "\n",
       "           Payer Name         CC Number Payment ID  tip_percentage  \n",
       "0  Christy Cunningham  3560325168603410    Sun2959        5.944673  \n",
       "1      Douglas Tucker  4478071379779230    Sun4608       16.054159  \n",
       "2      Travis Walters  6011812112971322    Sun4458       16.658734  \n",
       "3    Nathaniel Harris  4676137647685994    Sun5260       13.978041  \n",
       "4        Tonya Carter  4832732618637221    Sun2251       14.680765  \n",
       "5          Erik Smith   213140353657882    Sun9679       18.623962  \n",
       "6  Kristopher Johnson  2223727524230344    Sun5985       22.805017  \n",
       "7         Robert Buck  3514785077705092    Sun8157       11.607143  \n",
       "8     Joseph Mcdonald  3522866365840377    Sun6820       13.031915  \n",
       "9       Jerome Abbott  3532124519049786    Sun3775       21.853857  "
      ]
     },
     "execution_count": 66,
     "metadata": {},
     "output_type": "execute_result"
    }
   ],
   "source": [
    "df.head(10)"
   ]
  },
  {
   "cell_type": "code",
   "execution_count": 70,
   "id": "b6d12b8b",
   "metadata": {},
   "outputs": [
    {
     "name": "stdout",
     "output_type": "stream",
     "text": [
      "<class 'pandas.core.frame.DataFrame'>\n",
      "RangeIndex: 244 entries, 0 to 243\n",
      "Data columns (total 12 columns):\n",
      " #   Column            Non-Null Count  Dtype  \n",
      "---  ------            --------------  -----  \n",
      " 0   total_bill        244 non-null    float64\n",
      " 1   tip               244 non-null    float64\n",
      " 2   sex               244 non-null    object \n",
      " 3   smoker            244 non-null    object \n",
      " 4   day               244 non-null    object \n",
      " 5   time              244 non-null    object \n",
      " 6   size              244 non-null    int64  \n",
      " 7   price_per_person  244 non-null    float64\n",
      " 8   Payer Name        244 non-null    object \n",
      " 9   CC Number         244 non-null    int64  \n",
      " 10  Payment ID        244 non-null    object \n",
      " 11  tip_percentage    244 non-null    float64\n",
      "dtypes: float64(4), int64(2), object(6)\n",
      "memory usage: 23.0+ KB\n"
     ]
    },
    {
     "data": {
      "text/html": [
       "<div>\n",
       "<style scoped>\n",
       "    .dataframe tbody tr th:only-of-type {\n",
       "        vertical-align: middle;\n",
       "    }\n",
       "\n",
       "    .dataframe tbody tr th {\n",
       "        vertical-align: top;\n",
       "    }\n",
       "\n",
       "    .dataframe thead th {\n",
       "        text-align: right;\n",
       "    }\n",
       "</style>\n",
       "<table border=\"1\" class=\"dataframe\">\n",
       "  <thead>\n",
       "    <tr style=\"text-align: right;\">\n",
       "      <th></th>\n",
       "      <th>total_bill</th>\n",
       "      <th>tip</th>\n",
       "      <th>sex</th>\n",
       "      <th>smoker</th>\n",
       "      <th>day</th>\n",
       "      <th>time</th>\n",
       "      <th>size</th>\n",
       "      <th>price_per_person</th>\n",
       "      <th>Payer Name</th>\n",
       "      <th>CC Number</th>\n",
       "      <th>Payment ID</th>\n",
       "      <th>tip_percentage</th>\n",
       "    </tr>\n",
       "  </thead>\n",
       "  <tbody>\n",
       "    <tr>\n",
       "      <th>0</th>\n",
       "      <td>16.99</td>\n",
       "      <td>1.01</td>\n",
       "      <td>Female</td>\n",
       "      <td>No</td>\n",
       "      <td>Sun</td>\n",
       "      <td>Dinner</td>\n",
       "      <td>2</td>\n",
       "      <td>8.49</td>\n",
       "      <td>Christy Cunningham</td>\n",
       "      <td>3560325168603410</td>\n",
       "      <td>Sun2959</td>\n",
       "      <td>5.944673</td>\n",
       "    </tr>\n",
       "    <tr>\n",
       "      <th>1</th>\n",
       "      <td>10.34</td>\n",
       "      <td>1.66</td>\n",
       "      <td>Male</td>\n",
       "      <td>No</td>\n",
       "      <td>Sun</td>\n",
       "      <td>Dinner</td>\n",
       "      <td>3</td>\n",
       "      <td>3.45</td>\n",
       "      <td>Douglas Tucker</td>\n",
       "      <td>4478071379779230</td>\n",
       "      <td>Sun4608</td>\n",
       "      <td>16.054159</td>\n",
       "    </tr>\n",
       "    <tr>\n",
       "      <th>2</th>\n",
       "      <td>21.01</td>\n",
       "      <td>3.50</td>\n",
       "      <td>Male</td>\n",
       "      <td>No</td>\n",
       "      <td>Sun</td>\n",
       "      <td>Dinner</td>\n",
       "      <td>3</td>\n",
       "      <td>7.00</td>\n",
       "      <td>Travis Walters</td>\n",
       "      <td>6011812112971322</td>\n",
       "      <td>Sun4458</td>\n",
       "      <td>16.658734</td>\n",
       "    </tr>\n",
       "    <tr>\n",
       "      <th>3</th>\n",
       "      <td>23.68</td>\n",
       "      <td>3.31</td>\n",
       "      <td>Male</td>\n",
       "      <td>No</td>\n",
       "      <td>Sun</td>\n",
       "      <td>Dinner</td>\n",
       "      <td>2</td>\n",
       "      <td>11.84</td>\n",
       "      <td>Nathaniel Harris</td>\n",
       "      <td>4676137647685994</td>\n",
       "      <td>Sun5260</td>\n",
       "      <td>13.978041</td>\n",
       "    </tr>\n",
       "    <tr>\n",
       "      <th>4</th>\n",
       "      <td>24.59</td>\n",
       "      <td>3.61</td>\n",
       "      <td>Female</td>\n",
       "      <td>No</td>\n",
       "      <td>Sun</td>\n",
       "      <td>Dinner</td>\n",
       "      <td>4</td>\n",
       "      <td>6.15</td>\n",
       "      <td>Tonya Carter</td>\n",
       "      <td>4832732618637221</td>\n",
       "      <td>Sun2251</td>\n",
       "      <td>14.680765</td>\n",
       "    </tr>\n",
       "  </tbody>\n",
       "</table>\n",
       "</div>"
      ],
      "text/plain": [
       "   total_bill   tip     sex smoker  day    time  size  price_per_person  \\\n",
       "0       16.99  1.01  Female     No  Sun  Dinner     2              8.49   \n",
       "1       10.34  1.66    Male     No  Sun  Dinner     3              3.45   \n",
       "2       21.01  3.50    Male     No  Sun  Dinner     3              7.00   \n",
       "3       23.68  3.31    Male     No  Sun  Dinner     2             11.84   \n",
       "4       24.59  3.61  Female     No  Sun  Dinner     4              6.15   \n",
       "\n",
       "           Payer Name         CC Number Payment ID  tip_percentage  \n",
       "0  Christy Cunningham  3560325168603410    Sun2959        5.944673  \n",
       "1      Douglas Tucker  4478071379779230    Sun4608       16.054159  \n",
       "2      Travis Walters  6011812112971322    Sun4458       16.658734  \n",
       "3    Nathaniel Harris  4676137647685994    Sun5260       13.978041  \n",
       "4        Tonya Carter  4832732618637221    Sun2251       14.680765  "
      ]
     },
     "execution_count": 70,
     "metadata": {},
     "output_type": "execute_result"
    }
   ],
   "source": [
    "#we can also drop a column, by using the command drop:\n",
    "df.drop('tip_percentage',axis=1)\n",
    "#this does not work at the frame!It is not a permanent change!\n",
    "#You can check by the commands below\n",
    "df.info()\n",
    "df.head()\n",
    "#If you want to do a permanent change, so we should do:\n",
    "#Its better than use inplace to do it. This is more commom!\n",
    "df=df.drop('tip_percentage',axis=1)"
   ]
  },
  {
   "cell_type": "code",
   "execution_count": 71,
   "id": "1c3ac169",
   "metadata": {},
   "outputs": [
    {
     "data": {
      "text/plain": [
       "(244, 12)"
      ]
     },
     "execution_count": 71,
     "metadata": {},
     "output_type": "execute_result"
    }
   ],
   "source": [
    "df.shape"
   ]
  },
  {
   "cell_type": "code",
   "execution_count": 72,
   "id": "ddfdf512",
   "metadata": {},
   "outputs": [
    {
     "data": {
      "text/plain": [
       "244"
      ]
     },
     "execution_count": 72,
     "metadata": {},
     "output_type": "execute_result"
    }
   ],
   "source": [
    "df.shape[0]"
   ]
  },
  {
   "cell_type": "code",
   "execution_count": 73,
   "id": "61704351",
   "metadata": {},
   "outputs": [
    {
     "data": {
      "text/plain": [
       "12"
      ]
     },
     "execution_count": 73,
     "metadata": {},
     "output_type": "execute_result"
    }
   ],
   "source": [
    "df.shape[1]"
   ]
  },
  {
   "cell_type": "code",
   "execution_count": 89,
   "id": "1c536c65",
   "metadata": {},
   "outputs": [
    {
     "data": {
      "text/plain": [
       "total_bill                       16.99\n",
       "tip                               1.01\n",
       "sex                             Female\n",
       "smoker                              No\n",
       "day                                Sun\n",
       "time                            Dinner\n",
       "size                                 2\n",
       "price_per_person                  8.49\n",
       "Payer Name          Christy Cunningham\n",
       "CC Number             3560325168603410\n",
       "tip_percentage                5.944673\n",
       "Name: Sun2959, dtype: object"
      ]
     },
     "execution_count": 89,
     "metadata": {},
     "output_type": "execute_result"
    }
   ],
   "source": [
    "#Now lets talk about Indexes!\n",
    "#Lets take a look at the data using indexes:\n",
    "#Indexes should be an unique identifier for each row. Its the primary index in SQL. :)\n",
    "#This will do it for us!\n",
    "df.index\n",
    "#df.set_index(\"Payment ID\")\n",
    "#It does not accept _!that is weird.\n",
    "df.head(10)\n",
    "#Lets do it permanent by:\n",
    "#df = df.set_index(\"Payment ID\")\n",
    "#We can also reset our indexes using:\n",
    "df.reset_index()\n",
    "#This will set the Payment ID as a column and reset which is the index \n",
    "\n"
   ]
  },
  {
   "cell_type": "code",
   "execution_count": 94,
   "id": "4facc876",
   "metadata": {},
   "outputs": [
    {
     "data": {
      "text/plain": [
       "total_bill                       16.99\n",
       "tip                               1.01\n",
       "sex                             Female\n",
       "smoker                              No\n",
       "day                                Sun\n",
       "time                            Dinner\n",
       "size                                 2\n",
       "price_per_person                  8.49\n",
       "Payer Name          Christy Cunningham\n",
       "CC Number             3560325168603410\n",
       "tip_percentage                5.944673\n",
       "Name: Sun2959, dtype: object"
      ]
     },
     "execution_count": 94,
     "metadata": {},
     "output_type": "execute_result"
    }
   ],
   "source": [
    "#Lets grab only a row. We should use:\n",
    "df.iloc[0]\n",
    "df.head(10)\n",
    "#We can also refer to the payment ID value\n",
    "df.loc['Sun2959']\n",
    "#and voilá, we would have the same result!:)\n"
   ]
  },
  {
   "cell_type": "code",
   "execution_count": 99,
   "id": "0fd53aed",
   "metadata": {},
   "outputs": [],
   "source": [
    "#Now we want to get a labeled list, so we can do the following way:\n",
    "df.loc[['Sun2959','Sun5260']]\n",
    "#Now if we want to drop or add rows, we can do:\n",
    "df.drop('Sun2959',axis=0)\n",
    "#this change is not permanent.\n",
    "#df.head(10)\n",
    "#If we want to do it permament...\n",
    "df=df.drop('Sun2959',axis=0)"
   ]
  },
  {
   "cell_type": "code",
   "execution_count": 101,
   "id": "16a3e780",
   "metadata": {},
   "outputs": [
    {
     "data": {
      "text/plain": [
       "total_bill                     10.34\n",
       "tip                             1.66\n",
       "sex                             Male\n",
       "smoker                            No\n",
       "day                              Sun\n",
       "time                          Dinner\n",
       "size                               3\n",
       "price_per_person                3.45\n",
       "Payer Name            Douglas Tucker\n",
       "CC Number           4478071379779230\n",
       "tip_percentage             16.054159\n",
       "Name: Sun4608, dtype: object"
      ]
     },
     "execution_count": 101,
     "metadata": {},
     "output_type": "execute_result"
    }
   ],
   "source": [
    "df.head()\n",
    "#And it is gone!!\n",
    "#Now lets use a slice!\n",
    "#(Lets not run that)\n",
    "#df=df.iloc[1:x]\n",
    "#To add a new row---we need to have the first amount of columns. Be attentive!\n",
    "#Lets assign to a row, first, the first row\n",
    "one_row=df.iloc[0]\n",
    "one_row"
   ]
  },
  {
   "cell_type": "code",
   "execution_count": 104,
   "id": "34b03458",
   "metadata": {},
   "outputs": [
    {
     "name": "stderr",
     "output_type": "stream",
     "text": [
      "/tmp/ipykernel_1231607/711828457.py:1: FutureWarning: The frame.append method is deprecated and will be removed from pandas in a future version. Use pandas.concat instead.\n",
      "  df=df.append(one_row)\n"
     ]
    }
   ],
   "source": [
    "df=df.append(one_row)\n",
    "#append will be deprecated, and its better to use other methods, such as:\n",
    "#1. make a list out of the tables and then creating a new data frame.\n",
    "#2.To use concat.\n",
    "#Examples: https://stackoverflow.com/questions/70837397/good-alternative-to-pandas-append-method-now-that-it-is-being-deprecated\n",
    "\n"
   ]
  },
  {
   "cell_type": "code",
   "execution_count": 130,
   "id": "559575e5",
   "metadata": {},
   "outputs": [
    {
     "data": {
      "text/html": [
       "<div>\n",
       "<style scoped>\n",
       "    .dataframe tbody tr th:only-of-type {\n",
       "        vertical-align: middle;\n",
       "    }\n",
       "\n",
       "    .dataframe tbody tr th {\n",
       "        vertical-align: top;\n",
       "    }\n",
       "\n",
       "    .dataframe thead th {\n",
       "        text-align: right;\n",
       "    }\n",
       "</style>\n",
       "<table border=\"1\" class=\"dataframe\">\n",
       "  <thead>\n",
       "    <tr style=\"text-align: right;\">\n",
       "      <th></th>\n",
       "      <th>total_bill</th>\n",
       "      <th>tip</th>\n",
       "      <th>sex</th>\n",
       "      <th>smoker</th>\n",
       "      <th>day</th>\n",
       "      <th>time</th>\n",
       "      <th>size</th>\n",
       "      <th>price_per_person</th>\n",
       "      <th>Payer Name</th>\n",
       "      <th>CC Number</th>\n",
       "      <th>Payment ID</th>\n",
       "    </tr>\n",
       "  </thead>\n",
       "  <tbody>\n",
       "    <tr>\n",
       "      <th>0</th>\n",
       "      <td>16.99</td>\n",
       "      <td>1.01</td>\n",
       "      <td>Female</td>\n",
       "      <td>No</td>\n",
       "      <td>Sun</td>\n",
       "      <td>Dinner</td>\n",
       "      <td>2</td>\n",
       "      <td>8.49</td>\n",
       "      <td>Christy Cunningham</td>\n",
       "      <td>3560325168603410</td>\n",
       "      <td>Sun2959</td>\n",
       "    </tr>\n",
       "    <tr>\n",
       "      <th>1</th>\n",
       "      <td>10.34</td>\n",
       "      <td>1.66</td>\n",
       "      <td>Male</td>\n",
       "      <td>No</td>\n",
       "      <td>Sun</td>\n",
       "      <td>Dinner</td>\n",
       "      <td>3</td>\n",
       "      <td>3.45</td>\n",
       "      <td>Douglas Tucker</td>\n",
       "      <td>4478071379779230</td>\n",
       "      <td>Sun4608</td>\n",
       "    </tr>\n",
       "    <tr>\n",
       "      <th>2</th>\n",
       "      <td>21.01</td>\n",
       "      <td>3.50</td>\n",
       "      <td>Male</td>\n",
       "      <td>No</td>\n",
       "      <td>Sun</td>\n",
       "      <td>Dinner</td>\n",
       "      <td>3</td>\n",
       "      <td>7.00</td>\n",
       "      <td>Travis Walters</td>\n",
       "      <td>6011812112971322</td>\n",
       "      <td>Sun4458</td>\n",
       "    </tr>\n",
       "    <tr>\n",
       "      <th>3</th>\n",
       "      <td>23.68</td>\n",
       "      <td>3.31</td>\n",
       "      <td>Male</td>\n",
       "      <td>No</td>\n",
       "      <td>Sun</td>\n",
       "      <td>Dinner</td>\n",
       "      <td>2</td>\n",
       "      <td>11.84</td>\n",
       "      <td>Nathaniel Harris</td>\n",
       "      <td>4676137647685994</td>\n",
       "      <td>Sun5260</td>\n",
       "    </tr>\n",
       "    <tr>\n",
       "      <th>4</th>\n",
       "      <td>24.59</td>\n",
       "      <td>3.61</td>\n",
       "      <td>Female</td>\n",
       "      <td>No</td>\n",
       "      <td>Sun</td>\n",
       "      <td>Dinner</td>\n",
       "      <td>4</td>\n",
       "      <td>6.15</td>\n",
       "      <td>Tonya Carter</td>\n",
       "      <td>4832732618637221</td>\n",
       "      <td>Sun2251</td>\n",
       "    </tr>\n",
       "    <tr>\n",
       "      <th>...</th>\n",
       "      <td>...</td>\n",
       "      <td>...</td>\n",
       "      <td>...</td>\n",
       "      <td>...</td>\n",
       "      <td>...</td>\n",
       "      <td>...</td>\n",
       "      <td>...</td>\n",
       "      <td>...</td>\n",
       "      <td>...</td>\n",
       "      <td>...</td>\n",
       "      <td>...</td>\n",
       "    </tr>\n",
       "    <tr>\n",
       "      <th>238</th>\n",
       "      <td>35.83</td>\n",
       "      <td>4.67</td>\n",
       "      <td>Female</td>\n",
       "      <td>No</td>\n",
       "      <td>Sat</td>\n",
       "      <td>Dinner</td>\n",
       "      <td>3</td>\n",
       "      <td>11.94</td>\n",
       "      <td>Kimberly Crane</td>\n",
       "      <td>676184013727</td>\n",
       "      <td>Sat9777</td>\n",
       "    </tr>\n",
       "    <tr>\n",
       "      <th>239</th>\n",
       "      <td>29.03</td>\n",
       "      <td>5.92</td>\n",
       "      <td>Male</td>\n",
       "      <td>No</td>\n",
       "      <td>Sat</td>\n",
       "      <td>Dinner</td>\n",
       "      <td>3</td>\n",
       "      <td>9.68</td>\n",
       "      <td>Michael Avila</td>\n",
       "      <td>5296068606052842</td>\n",
       "      <td>Sat2657</td>\n",
       "    </tr>\n",
       "    <tr>\n",
       "      <th>240</th>\n",
       "      <td>27.18</td>\n",
       "      <td>2.00</td>\n",
       "      <td>Female</td>\n",
       "      <td>Yes</td>\n",
       "      <td>Sat</td>\n",
       "      <td>Dinner</td>\n",
       "      <td>2</td>\n",
       "      <td>13.59</td>\n",
       "      <td>Monica Sanders</td>\n",
       "      <td>3506806155565404</td>\n",
       "      <td>Sat1766</td>\n",
       "    </tr>\n",
       "    <tr>\n",
       "      <th>241</th>\n",
       "      <td>22.67</td>\n",
       "      <td>2.00</td>\n",
       "      <td>Male</td>\n",
       "      <td>Yes</td>\n",
       "      <td>Sat</td>\n",
       "      <td>Dinner</td>\n",
       "      <td>2</td>\n",
       "      <td>11.34</td>\n",
       "      <td>Keith Wong</td>\n",
       "      <td>6011891618747196</td>\n",
       "      <td>Sat3880</td>\n",
       "    </tr>\n",
       "    <tr>\n",
       "      <th>242</th>\n",
       "      <td>17.82</td>\n",
       "      <td>1.75</td>\n",
       "      <td>Male</td>\n",
       "      <td>No</td>\n",
       "      <td>Sat</td>\n",
       "      <td>Dinner</td>\n",
       "      <td>2</td>\n",
       "      <td>8.91</td>\n",
       "      <td>Dennis Dixon</td>\n",
       "      <td>4375220550950</td>\n",
       "      <td>Sat17</td>\n",
       "    </tr>\n",
       "  </tbody>\n",
       "</table>\n",
       "<p>163 rows × 11 columns</p>\n",
       "</div>"
      ],
      "text/plain": [
       "     total_bill   tip     sex smoker  day    time  size  price_per_person  \\\n",
       "0         16.99  1.01  Female     No  Sun  Dinner     2              8.49   \n",
       "1         10.34  1.66    Male     No  Sun  Dinner     3              3.45   \n",
       "2         21.01  3.50    Male     No  Sun  Dinner     3              7.00   \n",
       "3         23.68  3.31    Male     No  Sun  Dinner     2             11.84   \n",
       "4         24.59  3.61  Female     No  Sun  Dinner     4              6.15   \n",
       "..          ...   ...     ...    ...  ...     ...   ...               ...   \n",
       "238       35.83  4.67  Female     No  Sat  Dinner     3             11.94   \n",
       "239       29.03  5.92    Male     No  Sat  Dinner     3              9.68   \n",
       "240       27.18  2.00  Female    Yes  Sat  Dinner     2             13.59   \n",
       "241       22.67  2.00    Male    Yes  Sat  Dinner     2             11.34   \n",
       "242       17.82  1.75    Male     No  Sat  Dinner     2              8.91   \n",
       "\n",
       "             Payer Name         CC Number Payment ID  \n",
       "0    Christy Cunningham  3560325168603410    Sun2959  \n",
       "1        Douglas Tucker  4478071379779230    Sun4608  \n",
       "2        Travis Walters  6011812112971322    Sun4458  \n",
       "3      Nathaniel Harris  4676137647685994    Sun5260  \n",
       "4          Tonya Carter  4832732618637221    Sun2251  \n",
       "..                  ...               ...        ...  \n",
       "238      Kimberly Crane      676184013727    Sat9777  \n",
       "239       Michael Avila  5296068606052842    Sat2657  \n",
       "240      Monica Sanders  3506806155565404    Sat1766  \n",
       "241          Keith Wong  6011891618747196    Sat3880  \n",
       "242        Dennis Dixon     4375220550950      Sat17  \n",
       "\n",
       "[163 rows x 11 columns]"
      ]
     },
     "execution_count": 130,
     "metadata": {},
     "output_type": "execute_result"
    }
   ],
   "source": [
    "#USING FILTERS AND CONDITIONS WITH PANDAS\n",
    "#rows are instances of the data\n",
    "#This way we can do conditional filtering with pandas\n",
    "#df[df[\"Pop\"]>50]\n",
    "#Filter by single condition, multiple conditions and check agains multiple possible values\n",
    "#Lets do this!\n",
    "#Lets first re-open the df original:\n",
    "df = pd.read_csv('tips.csv')\n",
    "df['total_bill']>40\n",
    "#It does the comparsion for every row and write it as true or false for each row compared\n",
    "#Series of a boolean values!\n",
    "bool_series=df['total_bill']>40\n",
    "#So we can pass the boolean series as an index parameter, so we can have only the rows which matches our conditions:\n",
    "df[bool_series]\n",
    "#we can also do it directly as:\n",
    "df[df['total_bill']>40]\n",
    "#easy peasy and logical.\n",
    "df[df['sex']=='Male']\n",
    "#Another one:\n",
    "df[df['size']>3]\n",
    "\n",
    "#What about multiple conditions?\n",
    "#Lets do and & an or || same as C, it seems :)\n",
    "df[(df['size']>3) & (df['sex']=='Male')]\n",
    "#and key-word is just used for boolean values. Python is not smart enough to compare entire series\n",
    "#Very very nice. :)\n",
    "df[(df['day']=='Sun') | (df['sex']=='Female')].head(10)\n",
    "#Another method which is very useful, is the \"isin method...list of options\"\n",
    "options=['Sat','Sun']\n",
    "df[df['day'].isin(options)]\n",
    "#Easy peasy.\n"
   ]
  },
  {
   "cell_type": "code",
   "execution_count": null,
   "id": "953415d2",
   "metadata": {},
   "outputs": [],
   "source": []
  }
 ],
 "metadata": {
  "kernelspec": {
   "display_name": "Python 3 (ipykernel)",
   "language": "python",
   "name": "python3"
  },
  "language_info": {
   "codemirror_mode": {
    "name": "ipython",
    "version": 3
   },
   "file_extension": ".py",
   "mimetype": "text/x-python",
   "name": "python",
   "nbconvert_exporter": "python",
   "pygments_lexer": "ipython3",
   "version": "3.9.12"
  }
 },
 "nbformat": 4,
 "nbformat_minor": 5
}
