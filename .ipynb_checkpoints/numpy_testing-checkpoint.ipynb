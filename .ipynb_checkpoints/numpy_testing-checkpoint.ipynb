{
 "cells": [
  {
   "cell_type": "code",
   "execution_count": 1,
   "id": "695a0e3f",
   "metadata": {},
   "outputs": [
    {
     "name": "stdout",
     "output_type": "stream",
     "text": [
      "Hello Jupyter\n"
     ]
    }
   ],
   "source": [
    "print(\"Hello Jupyter\")"
   ]
  },
  {
   "cell_type": "code",
   "execution_count": 1,
   "id": "02486dc3",
   "metadata": {},
   "outputs": [
    {
     "data": {
      "text/plain": [
       "list"
      ]
     },
     "execution_count": 1,
     "metadata": {},
     "output_type": "execute_result"
    }
   ],
   "source": [
    "import numpy as np\n",
    "mylist = [1,2,3]\n",
    "type(mylist)"
   ]
  },
  {
   "cell_type": "code",
   "execution_count": 2,
   "id": "a0bccdfa",
   "metadata": {},
   "outputs": [
    {
     "data": {
      "text/plain": [
       "array([1, 2, 3])"
      ]
     },
     "execution_count": 2,
     "metadata": {},
     "output_type": "execute_result"
    }
   ],
   "source": [
    "np.array((mylist))"
   ]
  },
  {
   "cell_type": "code",
   "execution_count": 4,
   "id": "e432d6cc",
   "metadata": {},
   "outputs": [
    {
     "data": {
      "text/plain": [
       "array([[ 1,  2,  3],\n",
       "       [ 2,  4,  0],\n",
       "       [10,  2,  1]])"
      ]
     },
     "execution_count": 4,
     "metadata": {},
     "output_type": "execute_result"
    }
   ],
   "source": [
    "#we can also write matrix. Very basic up to now.\n",
    "my_matrix=[[1,2,3],[2,4,0],[10,2,1]]\n",
    "np.array(my_matrix)"
   ]
  },
  {
   "cell_type": "code",
   "execution_count": 11,
   "id": "16a570be",
   "metadata": {},
   "outputs": [
    {
     "name": "stdout",
     "output_type": "stream",
     "text": [
      "[0, 4, 8, 12, 16]\n"
     ]
    },
    {
     "data": {
      "text/plain": [
       "array([0, 2, 4, 6, 8])"
      ]
     },
     "execution_count": 11,
     "metadata": {},
     "output_type": "execute_result"
    }
   ],
   "source": [
    "#We can also create a range in an array, the same way as range for lists\n",
    "print(list(range(0,20,4)))\n",
    "#But now for arrays in numpy\n",
    "np.arange(0,10,2)"
   ]
  },
  {
   "cell_type": "code",
   "execution_count": 16,
   "id": "49278a2e",
   "metadata": {},
   "outputs": [
    {
     "data": {
      "text/plain": [
       "array([[1., 1., 1.],\n",
       "       [1., 1., 1.],\n",
       "       [1., 1., 1.]])"
      ]
     },
     "execution_count": 16,
     "metadata": {},
     "output_type": "execute_result"
    }
   ],
   "source": [
    "#We can also define zeros to fill an array\n",
    "np.zeros(4)\n",
    "#the same for matrices:\n",
    "np.zeros((2,5))\n",
    "#and the same also for number of ones!\n",
    "np.ones((3,3))"
   ]
  },
  {
   "cell_type": "code",
   "execution_count": 21,
   "id": "c3e917d6",
   "metadata": {},
   "outputs": [
    {
     "data": {
      "text/plain": [
       "array([ 0.,  2.,  4.,  6.,  8., 10., 12., 14., 16., 18., 20.])"
      ]
     },
     "execution_count": 21,
     "metadata": {},
     "output_type": "execute_result"
    }
   ],
   "source": [
    "#Other important function is linspace\n",
    "#Get evenly spaces from first value, to third value, an the number of elements\n",
    "#np.linspace(start,end-included,number of elements)\n",
    "#Examples\n",
    "np.linspace(0,10,3)\n",
    "np.linspace(0,20,11)"
   ]
  },
  {
   "cell_type": "code",
   "execution_count": 22,
   "id": "c91ba04f",
   "metadata": {},
   "outputs": [
    {
     "data": {
      "text/plain": [
       "array([[1., 0., 0.],\n",
       "       [0., 1., 0.],\n",
       "       [0., 0., 1.]])"
      ]
     },
     "execution_count": 22,
     "metadata": {},
     "output_type": "execute_result"
    }
   ],
   "source": [
    "#Identity matrix-very important for linear algebra-squared matrix (n x n) order\n",
    "np.eye(3)"
   ]
  },
  {
   "cell_type": "code",
   "execution_count": 44,
   "id": "897f6004",
   "metadata": {},
   "outputs": [
    {
     "name": "stdout",
     "output_type": "stream",
     "text": [
      "[[0.92218411 0.84420223 0.71929128]\n",
      " [0.45884325 0.80015495 0.24621352]]\n",
      "[-0.01487632  0.84233448  0.07906399 -0.40452033 -0.41049316 -1.49572985\n",
      " -1.39551396 -1.106415    0.27533749  0.49872775]\n",
      "[ 3  9  3  3  8  0  9  0  6  8  3  1  1 10  7  8 10  4  6  1]\n",
      "[3 0 1 0 0 0 3 3 2 0 2 2 0 2 0 0 2 1 3 0]\n",
      "[[4 7 5 5]\n",
      " [6 9 2 1]]\n"
     ]
    },
    {
     "data": {
      "text/plain": [
       "array([0.37454012, 0.95071431, 0.73199394, 0.59865848])"
      ]
     },
     "execution_count": 44,
     "metadata": {},
     "output_type": "execute_result"
    }
   ],
   "source": [
    "#Now lets create random distributions of data. huuuh\n",
    "#First simple one:\n",
    "#Return random numbers in a table. Can also return according to probability distributions.\n",
    "#This simplify a lot and can help in the creation of particles in solar system. \n",
    "print(np.random.rand(2,3))\n",
    "#One example for a normal distribution:\n",
    "print(np.random.randn(10))\n",
    "#Simple ones, to generate ints:\n",
    "#follows the rule:\n",
    "#random.randint(low, high=None, size=None, dtype=int)-> does not include the high number\n",
    "print(np.random.randint(0,11,20))\n",
    "print(np.random.randint(4,size=20))\n",
    "print(np.random.randint(0,10,size=(2,4)))\n",
    "#We can also use np.random.seed(42)-generate a seed set of values. \n",
    "#The number is arbitrary and generate the same numbers\n",
    "np.random.seed(42)\n",
    "np.random.rand(4)"
   ]
  },
  {
   "cell_type": "code",
   "execution_count": 48,
   "id": "774b0373",
   "metadata": {},
   "outputs": [
    {
     "name": "stdout",
     "output_type": "stream",
     "text": [
      "[ 0  1  2  3  4  5  6  7  8  9 10 11 12 13 14 15 16 17 18 19 20 21 22 23\n",
      " 24]\n"
     ]
    },
    {
     "data": {
      "text/plain": [
       "array([[ 0,  1,  2,  3,  4],\n",
       "       [ 5,  6,  7,  8,  9],\n",
       "       [10, 11, 12, 13, 14],\n",
       "       [15, 16, 17, 18, 19],\n",
       "       [20, 21, 22, 23, 24]])"
      ]
     },
     "execution_count": 48,
     "metadata": {},
     "output_type": "execute_result"
    }
   ],
   "source": [
    "#We can also reshape the array, in other format/order\n",
    "arr = np.arange(0,25)\n",
    "print(arr)\n",
    "arr.reshape(5,5)\n",
    "#\n"
   ]
  },
  {
   "cell_type": "code",
   "execution_count": null,
   "id": "c9f2f195",
   "metadata": {},
   "outputs": [],
   "source": []
  }
 ],
 "metadata": {
  "kernelspec": {
   "display_name": "Python 3 (ipykernel)",
   "language": "python",
   "name": "python3"
  },
  "language_info": {
   "codemirror_mode": {
    "name": "ipython",
    "version": 3
   },
   "file_extension": ".py",
   "mimetype": "text/x-python",
   "name": "python",
   "nbconvert_exporter": "python",
   "pygments_lexer": "ipython3",
   "version": "3.9.12"
  }
 },
 "nbformat": 4,
 "nbformat_minor": 5
}
